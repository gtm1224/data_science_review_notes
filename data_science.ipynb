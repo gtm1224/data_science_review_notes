{
 "cells": [
  {
   "cell_type": "markdown",
   "metadata": {},
   "source": [
    "# Review of vectors, matrices, and arithmetic"
   ]
  },
  {
   "cell_type": "code",
   "execution_count": 1,
   "metadata": {},
   "outputs": [],
   "source": [
    "import numpy as np"
   ]
  },
  {
   "cell_type": "code",
   "execution_count": 2,
   "metadata": {},
   "outputs": [
    {
     "name": "stdout",
     "output_type": "stream",
     "text": [
      "1 3\n",
      "2 4\n",
      "3 5\n"
     ]
    }
   ],
   "source": [
    "a=[1,2,3]\n",
    "b=[3,4,5]\n",
    "zip(a,b)\n",
    "for i,j in zip(a,b):\n",
    "    print(i,j)"
   ]
  },
  {
   "cell_type": "code",
   "execution_count": 3,
   "metadata": {},
   "outputs": [
    {
     "name": "stdout",
     "output_type": "stream",
     "text": [
      "[1 2 3]+[4 5 6]=[5 7 9]\n",
      "[1 2 3]x[4 5 6]=[ 4 10 18]\n"
     ]
    }
   ],
   "source": [
    "a=np.array([1,2,3])\n",
    "b=np.array([4,5,6])\n",
    "print(\"{0}+{1}={2}\".format(a,b,a+b))\n",
    "print(\"{0}x{1}={2}\".format(a,b,a*b))"
   ]
  },
  {
   "cell_type": "code",
   "execution_count": 4,
   "metadata": {},
   "outputs": [
    {
     "data": {
      "text/plain": [
       "(3,)"
      ]
     },
     "execution_count": 4,
     "metadata": {},
     "output_type": "execute_result"
    }
   ],
   "source": [
    "b.shape"
   ]
  },
  {
   "cell_type": "code",
   "execution_count": 5,
   "metadata": {},
   "outputs": [
    {
     "data": {
      "text/plain": [
       "1"
      ]
     },
     "execution_count": 5,
     "metadata": {},
     "output_type": "execute_result"
    }
   ],
   "source": [
    "b.ndim"
   ]
  },
  {
   "cell_type": "code",
   "execution_count": 6,
   "metadata": {},
   "outputs": [
    {
     "data": {
      "text/plain": [
       "array([[1., 1., 1.],\n",
       "       [1., 1., 1.],\n",
       "       [1., 1., 1.]])"
      ]
     },
     "execution_count": 6,
     "metadata": {},
     "output_type": "execute_result"
    }
   ],
   "source": [
    "np.ones((3,3))"
   ]
  },
  {
   "cell_type": "code",
   "execution_count": 7,
   "metadata": {},
   "outputs": [
    {
     "data": {
      "text/plain": [
       "array([[0., 0., 0., 0.],\n",
       "       [0., 0., 0., 0.],\n",
       "       [0., 0., 0., 0.]])"
      ]
     },
     "execution_count": 7,
     "metadata": {},
     "output_type": "execute_result"
    }
   ],
   "source": [
    "np.zeros((3,4))"
   ]
  },
  {
   "cell_type": "code",
   "execution_count": 8,
   "metadata": {},
   "outputs": [
    {
     "data": {
      "text/plain": [
       "array([[100, 100, 100, 100, 100],\n",
       "       [100, 100, 100, 100, 100],\n",
       "       [100, 100, 100, 100, 100],\n",
       "       [100, 100, 100, 100, 100]])"
      ]
     },
     "execution_count": 8,
     "metadata": {},
     "output_type": "execute_result"
    }
   ],
   "source": [
    "np.full((4,5),100)"
   ]
  },
  {
   "cell_type": "code",
   "execution_count": 9,
   "metadata": {},
   "outputs": [
    {
     "data": {
      "text/plain": [
       "array([[0.316935  , 0.31978385],\n",
       "       [0.56797415, 0.48402326],\n",
       "       [0.2826301 , 0.80192252],\n",
       "       [0.18559845, 0.47991664]])"
      ]
     },
     "execution_count": 9,
     "metadata": {},
     "output_type": "execute_result"
    }
   ],
   "source": [
    "np.random.rand(4,2)"
   ]
  },
  {
   "cell_type": "code",
   "execution_count": 10,
   "metadata": {},
   "outputs": [
    {
     "data": {
      "text/plain": [
       "array([[8, 2, 6, 2],\n",
       "       [4, 7, 5, 8],\n",
       "       [0, 9, 7, 6],\n",
       "       [8, 8, 1, 2],\n",
       "       [3, 5, 0, 8]])"
      ]
     },
     "execution_count": 10,
     "metadata": {},
     "output_type": "execute_result"
    }
   ],
   "source": [
    "np.random.randint(10,size=(5,4))"
   ]
  },
  {
   "cell_type": "code",
   "execution_count": 11,
   "metadata": {},
   "outputs": [
    {
     "data": {
      "text/plain": [
       "array([[1., 0., 0., 0.],\n",
       "       [0., 1., 0., 0.],\n",
       "       [0., 0., 1., 0.],\n",
       "       [0., 0., 0., 1.]])"
      ]
     },
     "execution_count": 11,
     "metadata": {},
     "output_type": "execute_result"
    }
   ],
   "source": [
    "np.identity(4)"
   ]
  },
  {
   "cell_type": "code",
   "execution_count": 12,
   "metadata": {},
   "outputs": [
    {
     "name": "stdout",
     "output_type": "stream",
     "text": [
      "[[1 2 3]\n",
      " [4 5 6]\n",
      " [7 8 9]]\n"
     ]
    }
   ],
   "source": [
    "a=np.array([[1,2,3],[4,5,6],[7,8,9]])\n",
    "print(a)"
   ]
  },
  {
   "cell_type": "code",
   "execution_count": 13,
   "metadata": {},
   "outputs": [],
   "source": [
    "b=np.array([[2,3],[4,5],[6,7]])"
   ]
  },
  {
   "cell_type": "code",
   "execution_count": 14,
   "metadata": {},
   "outputs": [
    {
     "name": "stdout",
     "output_type": "stream",
     "text": [
      "[[ 28  34]\n",
      " [ 64  79]\n",
      " [100 124]]\n"
     ]
    }
   ],
   "source": [
    "c=np.matmul(a,b)\n",
    "print(c)"
   ]
  },
  {
   "cell_type": "code",
   "execution_count": 15,
   "metadata": {},
   "outputs": [
    {
     "name": "stdout",
     "output_type": "stream",
     "text": [
      "-9.51619735392994e-16\n"
     ]
    }
   ],
   "source": [
    "print(np.linalg.det(a))"
   ]
  },
  {
   "cell_type": "markdown",
   "metadata": {},
   "source": [
    "# Statistics Review"
   ]
  },
  {
   "cell_type": "markdown",
   "metadata": {},
   "source": [
    "Chapter 5 from the book Data Science from Scratch"
   ]
  },
  {
   "cell_type": "code",
   "execution_count": 16,
   "metadata": {},
   "outputs": [],
   "source": [
    "import numpy as np\n",
    "from collections import Counter\n",
    "import matplotlib.pyplot as plt"
   ]
  },
  {
   "cell_type": "code",
   "execution_count": 17,
   "metadata": {},
   "outputs": [],
   "source": [
    "num_friends = list(np.random.randint(low =0,high=100,size=204))"
   ]
  },
  {
   "cell_type": "code",
   "execution_count": 18,
   "metadata": {},
   "outputs": [
    {
     "name": "stdout",
     "output_type": "stream",
     "text": [
      "Counter({87: 6, 90: 6, 20: 6, 81: 6, 8: 5, 40: 5, 84: 5, 26: 4, 58: 4, 86: 4, 54: 4, 22: 4, 97: 4, 25: 4, 49: 4, 50: 4, 15: 4, 72: 4, 37: 3, 7: 3, 1: 3, 79: 3, 55: 3, 18: 3, 48: 3, 10: 3, 66: 3, 88: 3, 94: 3, 28: 3, 14: 3, 33: 3, 80: 3, 76: 3, 11: 2, 42: 2, 36: 2, 56: 2, 44: 2, 82: 2, 62: 2, 63: 2, 73: 2, 74: 2, 19: 2, 85: 2, 53: 2, 43: 2, 70: 2, 46: 2, 77: 2, 47: 2, 60: 2, 30: 1, 98: 1, 95: 1, 5: 1, 0: 1, 2: 1, 27: 1, 65: 1, 45: 1, 9: 1, 93: 1, 39: 1, 89: 1, 67: 1, 29: 1, 24: 1, 4: 1, 17: 1, 38: 1, 99: 1, 78: 1, 71: 1, 23: 1, 6: 1, 61: 1, 16: 1, 31: 1, 69: 1, 32: 1, 91: 1, 35: 1, 59: 1, 57: 1, 21: 1, 64: 1})\n"
     ]
    }
   ],
   "source": [
    "friend_counts=Counter(num_friends)\n",
    "print(friend_counts)"
   ]
  },
  {
   "cell_type": "code",
   "execution_count": 19,
   "metadata": {},
   "outputs": [
    {
     "name": "stdout",
     "output_type": "stream",
     "text": [
      "[1, 3, 1, 0, 1, 1, 1, 3, 5, 1, 3, 2, 0, 0, 3, 4, 1, 1, 3, 2, 6, 1, 4, 1, 1, 4, 4, 1, 3, 1, 1, 1, 1, 3, 0, 1, 2, 3, 1, 1, 5, 0, 2, 2, 2, 1, 2, 2, 3, 4, 4, 0, 0, 2, 4, 3, 2, 1, 4, 1, 2, 1, 2, 2, 1, 1, 3, 1, 0, 1, 2, 1, 4, 2, 2, 0, 3, 2, 1, 3, 3, 6, 2, 0, 5, 2, 4, 6, 3, 1, 6, 1, 0, 1, 3, 1, 0, 4, 1, 1, 0]\n"
     ]
    }
   ],
   "source": [
    "xs=range(101)\n",
    "ys=[friend_counts[x] for x in xs]\n",
    "print(ys)"
   ]
  },
  {
   "cell_type": "code",
   "execution_count": 20,
   "metadata": {},
   "outputs": [
    {
     "data": {
      "image/png": "[encoded data removed]",
      "text/plain": [
       "<Figure size 432x288 with 1 Axes>"
      ]
     },
     "metadata": {
      "needs_background": "light"
     },
     "output_type": "display_data"
    }
   ],
   "source": [
    "plt.bar(xs,ys)\n",
    "plt.axis([0,101,0,25])\n",
    "plt.title(\"Histogram of Friend Counts\")\n",
    "plt.xlabel(\"# of friends\")\n",
    "plt.ylabel(\"# of people\")\n",
    "plt.show()"
   ]
  },
  {
   "cell_type": "code",
   "execution_count": 21,
   "metadata": {},
   "outputs": [
    {
     "name": "stdout",
     "output_type": "stream",
     "text": [
      "204\n"
     ]
    }
   ],
   "source": [
    "num_points = len(num_friends)\n",
    "print(num_points)"
   ]
  },
  {
   "cell_type": "code",
   "execution_count": 22,
   "metadata": {},
   "outputs": [
    {
     "name": "stdout",
     "output_type": "stream",
     "text": [
      "99\n"
     ]
    }
   ],
   "source": [
    "larget_value = max(num_friends)\n",
    "print(larget_value)"
   ]
  },
  {
   "cell_type": "code",
   "execution_count": 23,
   "metadata": {},
   "outputs": [
    {
     "name": "stdout",
     "output_type": "stream",
     "text": [
      "0\n"
     ]
    }
   ],
   "source": [
    "smallest_value=min(num_friends)\n",
    "print(smallest_value)"
   ]
  },
  {
   "cell_type": "code",
   "execution_count": 24,
   "metadata": {},
   "outputs": [
    {
     "name": "stdout",
     "output_type": "stream",
     "text": [
      "[0, 1, 1, 1, 2, 4, 5, 6, 7, 7, 7, 8, 8, 8, 8, 8, 9, 10, 10, 10, 11, 11, 14, 14, 14, 15, 15, 15, 15, 16, 17, 18, 18, 18, 19, 19, 20, 20, 20, 20, 20, 20, 21, 22, 22, 22, 22, 23, 24, 25, 25, 25, 25, 26, 26, 26, 26, 27, 28, 28, 28, 29, 30, 31, 32, 33, 33, 33, 35, 36, 36, 37, 37, 37, 38, 39, 40, 40, 40, 40, 40, 42, 42, 43, 43, 44, 44, 45, 46, 46, 47, 47, 48, 48, 48, 49, 49, 49, 49, 50, 50, 50, 50, 53, 53, 54, 54, 54, 54, 55, 55, 55, 56, 56, 57, 58, 58, 58, 58, 59, 60, 60, 61, 62, 62, 63, 63, 64, 65, 66, 66, 66, 67, 69, 70, 70, 71, 72, 72, 72, 72, 73, 73, 74, 74, 76, 76, 76, 77, 77, 78, 79, 79, 79, 80, 80, 80, 81, 81, 81, 81, 81, 81, 82, 82, 84, 84, 84, 84, 84, 85, 85, 86, 86, 86, 86, 87, 87, 87, 87, 87, 87, 88, 88, 88, 89, 90, 90, 90, 90, 90, 90, 91, 93, 94, 94, 94, 95, 97, 97, 97, 97, 98, 99]\n"
     ]
    }
   ],
   "source": [
    "sorted_values=sorted(num_friends)\n",
    "print(sorted_values)"
   ]
  },
  {
   "cell_type": "code",
   "execution_count": 25,
   "metadata": {},
   "outputs": [],
   "source": [
    "def mean(xs):\n",
    "    return sum(xs)/len(xs)"
   ]
  },
  {
   "cell_type": "code",
   "execution_count": 26,
   "metadata": {},
   "outputs": [
    {
     "data": {
      "text/plain": [
       "51.083333333333336"
      ]
     },
     "execution_count": 26,
     "metadata": {},
     "output_type": "execute_result"
    }
   ],
   "source": [
    "mean(num_friends)"
   ]
  },
  {
   "cell_type": "code",
   "execution_count": 27,
   "metadata": {},
   "outputs": [],
   "source": [
    "def quantile(xs,p):\n",
    "    p_index=int(p*len(xs))\n",
    "    return sorted(xs)[p_index]"
   ]
  },
  {
   "cell_type": "code",
   "execution_count": 28,
   "metadata": {},
   "outputs": [],
   "source": [
    "assert quantile(num_friends,0.10)"
   ]
  },
  {
   "cell_type": "code",
   "execution_count": 29,
   "metadata": {},
   "outputs": [],
   "source": [
    "def mode(x):\n",
    "    counts=Counter(x)\n",
    "    print(counts)\n",
    "    max_count=max(counts.values())\n",
    "    return [x_i for x_i,count in counts.items() if count==max_count]"
   ]
  },
  {
   "cell_type": "code",
   "execution_count": 30,
   "metadata": {},
   "outputs": [
    {
     "name": "stdout",
     "output_type": "stream",
     "text": [
      "Counter({87: 6, 90: 6, 20: 6, 81: 6, 8: 5, 40: 5, 84: 5, 26: 4, 58: 4, 86: 4, 54: 4, 22: 4, 97: 4, 25: 4, 49: 4, 50: 4, 15: 4, 72: 4, 37: 3, 7: 3, 1: 3, 79: 3, 55: 3, 18: 3, 48: 3, 10: 3, 66: 3, 88: 3, 94: 3, 28: 3, 14: 3, 33: 3, 80: 3, 76: 3, 11: 2, 42: 2, 36: 2, 56: 2, 44: 2, 82: 2, 62: 2, 63: 2, 73: 2, 74: 2, 19: 2, 85: 2, 53: 2, 43: 2, 70: 2, 46: 2, 77: 2, 47: 2, 60: 2, 30: 1, 98: 1, 95: 1, 5: 1, 0: 1, 2: 1, 27: 1, 65: 1, 45: 1, 9: 1, 93: 1, 39: 1, 89: 1, 67: 1, 29: 1, 24: 1, 4: 1, 17: 1, 38: 1, 99: 1, 78: 1, 71: 1, 23: 1, 6: 1, 61: 1, 16: 1, 31: 1, 69: 1, 32: 1, 91: 1, 35: 1, 59: 1, 57: 1, 21: 1, 64: 1})\n"
     ]
    },
    {
     "data": {
      "text/plain": [
       "[87, 90, 20, 81]"
      ]
     },
     "execution_count": 30,
     "metadata": {},
     "output_type": "execute_result"
    }
   ],
   "source": [
    "mode(num_friends)"
   ]
  },
  {
   "cell_type": "markdown",
   "metadata": {},
   "source": [
    "variance in probablity: $DX = E(X-EX)^{2}$"
   ]
  },
  {
   "cell_type": "markdown",
   "metadata": {},
   "source": [
    "$variance=\\frac{\\sum_{i=0}^n (x_{i}-\\hat{x})^2}{n-1}$"
   ]
  },
  {
   "cell_type": "code",
   "execution_count": 31,
   "metadata": {},
   "outputs": [],
   "source": [
    "def variance(xs):\n",
    "    x_bar=mean(xs)\n",
    "    print(x_bar)\n",
    "    x_minus_x_bar=[x-x_bar for x in xs]\n",
    "    print(x_minus_x_bar)\n",
    "    return sum([x**2 for x in  x_minus_x_bar])/(len(xs)-1)"
   ]
  },
  {
   "cell_type": "code",
   "execution_count": 32,
   "metadata": {},
   "outputs": [
    {
     "name": "stdout",
     "output_type": "stream",
     "text": [
      "51.083333333333336\n",
      "[-14.083333333333336, -44.083333333333336, -21.083333333333336, -40.083333333333336, -9.083333333333336, 46.916666666666664, -50.083333333333336, -25.083333333333336, 35.916666666666664, -25.083333333333336, 6.916666666666664, -15.083333333333336, 38.916666666666664, 35.916666666666664, 43.916666666666664, 27.916666666666664, 3.9166666666666643, 34.916666666666664, 2.9166666666666643, -31.083333333333336, 4.916666666666664, -7.083333333333336, 29.916666666666664, -33.083333333333336, -46.083333333333336, -31.083333333333336, -3.0833333333333357, 2.9166666666666643, 30.916666666666664, -7.083333333333336, -43.083333333333336, -51.083333333333336, -29.083333333333336, -49.083333333333336, -40.083333333333336, -24.083333333333336, -29.083333333333336, -41.083333333333336, 13.916666666666664, -6.083333333333336, 14.916666666666664, 36.916666666666664, -42.083333333333336, -25.083333333333336, 45.916666666666664, -31.083333333333336, 38.916666666666664, 6.916666666666664, 45.916666666666664, -31.083333333333336, 34.916666666666664, -43.083333333333336, -43.083333333333336, 41.916666666666664, 35.916666666666664, 42.916666666666664, -33.083333333333336, -43.083333333333336, 29.916666666666664, 27.916666666666664, 10.916666666666664, -12.083333333333336, -33.083333333333336, -31.083333333333336, -26.083333333333336, 37.916666666666664, -26.083333333333336, -23.083333333333336, 14.916666666666664, 35.916666666666664, -2.0833333333333357, 15.916666666666664, 35.916666666666664, 27.916666666666664, 11.916666666666664, -41.083333333333336, -44.083333333333336, -11.083333333333336, 10.916666666666664, -3.0833333333333357, -22.083333333333336, 11.916666666666664, -1.0833333333333357, 21.916666666666664, -37.083333333333336, -27.083333333333336, 22.916666666666664, -47.083333333333336, -36.083333333333336, -2.0833333333333357, 32.916666666666664, 32.916666666666664, 20.916666666666664, -11.083333333333336, -36.083333333333336, -43.083333333333336, -14.083333333333336, -32.083333333333336, -50.083333333333336, 22.916666666666664, 33.916666666666664, -18.083333333333336, -26.083333333333336, -34.083333333333336, 1.9166666666666643, -9.083333333333336, 29.916666666666664, -13.083333333333336, 20.916666666666664, 30.916666666666664, 47.916666666666664, -1.0833333333333357, 26.916666666666664, 36.916666666666664, 6.916666666666664, -25.083333333333336, -8.083333333333336, 19.916666666666664, 34.916666666666664, -37.083333333333336, -31.083333333333336, -23.083333333333336, 18.916666666666664, -18.083333333333336, 42.916666666666664, -5.083333333333336, 25.916666666666664, 20.916666666666664, -29.083333333333336, -28.083333333333336, -4.083333333333336, 45.916666666666664, -45.083333333333336, 28.916666666666664, 34.916666666666664, 24.916666666666664, 32.916666666666664, -26.083333333333336, 38.916666666666664, 38.916666666666664, 9.916666666666664, -2.0833333333333357, 14.916666666666664, -5.083333333333336, 8.916666666666664, -35.083333333333336, -11.083333333333336, 29.916666666666664, 24.916666666666664, -1.0833333333333357, 32.916666666666664, 29.916666666666664, -4.083333333333336, 33.916666666666664, -1.0833333333333357, -50.083333333333336, -20.083333333333336, 35.916666666666664, 29.916666666666664, 38.916666666666664, -11.083333333333336, -41.083333333333336, 2.9166666666666643, -11.083333333333336, -29.083333333333336, -23.083333333333336, -15.083333333333336, 17.916666666666664, -19.083333333333336, -14.083333333333336, 28.916666666666664, 32.916666666666664, 45.916666666666664, 39.916666666666664, -16.083333333333336, -8.083333333333336, -36.083333333333336, 7.916666666666664, 5.916666666666664, -32.083333333333336, -3.0833333333333357, 28.916666666666664, 1.9166666666666643, 21.916666666666664, -44.083333333333336, 18.916666666666664, 25.916666666666664, 36.916666666666664, -30.083333333333336, 3.9166666666666643, 38.916666666666664, 42.916666666666664, -2.0833333333333357, 24.916666666666664, -18.083333333333336, 4.916666666666664, 8.916666666666664, 3.9166666666666643, 2.9166666666666643, -37.083333333333336, 20.916666666666664, 6.916666666666664, 12.916666666666664, -36.083333333333336]\n"
     ]
    },
    {
     "data": {
      "text/plain": [
       "827.9782430213465"
      ]
     },
     "execution_count": 32,
     "metadata": {},
     "output_type": "execute_result"
    }
   ],
   "source": [
    "variance(num_friends)"
   ]
  },
  {
   "cell_type": "code",
   "execution_count": 33,
   "metadata": {},
   "outputs": [],
   "source": [
    "import math\n",
    "def standard_deviation(xs):\n",
    "    return math.sqrt(variance(xs))"
   ]
  },
  {
   "cell_type": "code",
   "execution_count": 34,
   "metadata": {},
   "outputs": [],
   "source": [
    "def interquartile_range(xs):\n",
    "    return quantile(xs,0.75)-quantile(xs,0.25)"
   ]
  },
  {
   "cell_type": "code",
   "execution_count": 35,
   "metadata": {},
   "outputs": [],
   "source": [
    "def dot(v, w):\n",
    "    \"\"\"Computes v_1 * w_1 + ... + v_n * w_n\"\"\"\n",
    "    assert len(v) == len(w), \"vectors must be same length\"\n",
    "    return sum(v_i * w_i for v_i, w_i in zip(v, w))"
   ]
  },
  {
   "cell_type": "code",
   "execution_count": 36,
   "metadata": {},
   "outputs": [],
   "source": [
    "def de_mean(xs):\n",
    "    \"\"\"Translate xs by subtracting its mean (so the result has mean 0)\"\"\"\n",
    "    x_bar = mean(xs)\n",
    "    return [x - x_bar for x in xs]"
   ]
  },
  {
   "cell_type": "markdown",
   "metadata": {},
   "source": [
    "$cov(X,Y)=E[(X-EX)(Y-EY)]$"
   ]
  },
  {
   "cell_type": "code",
   "execution_count": 37,
   "metadata": {},
   "outputs": [],
   "source": [
    "def covariance(xs,ys):\n",
    "    return dot(de_mean(xs),de_mean(y))/(len(xs)-1)"
   ]
  },
  {
   "cell_type": "markdown",
   "metadata": {},
   "source": [
    "$corr(X,Y)=\\frac{cov(X,Y)}{std(X)std(Y)}$"
   ]
  },
  {
   "cell_type": "markdown",
   "metadata": {},
   "source": [
    "# Normal Distruibution"
   ]
  },
  {
   "cell_type": "markdown",
   "metadata": {},
   "source": [
    "$f(x|\\mu,\\sigma)=\\frac{1}{\\sqrt{2\\pi}\\sigma}exp(-\\frac{(x-\\mu)^2}{2\\sigma^2})  $"
   ]
  },
  {
   "cell_type": "code",
   "execution_count": 39,
   "metadata": {},
   "outputs": [],
   "source": [
    "import math\n",
    "sqrt_2pi=math.sqrt(2*math.pi)"
   ]
  },
  {
   "cell_type": "code",
   "execution_count": 40,
   "metadata": {},
   "outputs": [],
   "source": [
    "def normal_pdf(x,mu,sigma):\n",
    "    return (math.exp(-(x-mu)**2/2/sigma**2)/(sqrt_2pi*sigma))"
   ]
  },
  {
   "cell_type": "code",
   "execution_count": 49,
   "metadata": {},
   "outputs": [
    {
     "data": {
      "text/plain": [
       "Text(0.5, 1.0, 'Various Normal pdfs')"
      ]
     },
     "execution_count": 49,
     "metadata": {},
     "output_type": "execute_result"
    },
    {
     "data": {
      "image/png": "[encoded data removed]",
      "text/plain": [
       "<Figure size 800x800 with 1 Axes>"
      ]
     },
     "metadata": {
      "needs_background": "light"
     },
     "output_type": "display_data"
    }
   ],
   "source": [
    "import matplotlib.pyplot as plt\n",
    "from matplotlib.pyplot import figure\n",
    "figure(figsize=(10, 10), dpi=80)\n",
    "xs=[x/10 for x in range(-50,50)]\n",
    "plt.plot(xs,[normal_pdf(x,0,1) for x in xs],'_',label='mu=0,sigma=1')\n",
    "plt.plot(xs,[normal_pdf(x,0,2) for x in xs],'--',label='mu=0,sigma=2')\n",
    "plt.plot(xs,[normal_pdf(x,0,0.5) for x in xs],':',label='mu=0,sigma=0.5')\n",
    "plt.plot(xs,[normal_pdf(x,-1,1) for x in xs],'_',label='mu=-1,sigma=1')\n",
    "plt.legend()\n",
    "plt.title(\"Various Normal pdfs\")\n"
   ]
  },
  {
   "cell_type": "markdown",
   "metadata": {},
   "source": [
    "# Hypothesis and Interference"
   ]
  },
  {
   "cell_type": "markdown",
   "metadata": {},
   "source": [
    "In the classical setup, we have a null hypothesis, , that represents some default position, and some alternative hypothesis, , that we’d like to compare it with. We use statistics to decide whether we can reject  as false or not. This will probably make more sense with an example.\n",
    "\n",
    "Grus, Joel. Data Science from Scratch (Kindle Locations 2445-2448). O'Reilly Media. Kindle Edition. "
   ]
  },
  {
   "cell_type": "code",
   "execution_count": null,
   "metadata": {},
   "outputs": [],
   "source": []
  },
  {
   "cell_type": "code",
   "execution_count": null,
   "metadata": {},
   "outputs": [],
   "source": []
  },
  {
   "cell_type": "code",
   "execution_count": null,
   "metadata": {},
   "outputs": [],
   "source": []
  },
  {
   "cell_type": "markdown",
   "metadata": {},
   "source": [
    "# Machine Learning"
   ]
  },
  {
   "cell_type": "markdown",
   "metadata": {},
   "source": [
    "We’ll look at both supervised models (in which there is a set of data labeled with the correct answers\n",
    "to learn from) and unsupervised models (in which there are no such labels). There are various other types, like semisupervised (in which only some of the data are labeled), online (in which the model needs to continuously adjust to newly arriving data), and reinforcement (in which, after making a series of predictions, the model gets a signal indicating how well it did) that we won’t cover in this book.\n",
    "\n",
    "Grus, Joel. Data Science from Scratch (Kindle Locations 4132-4136). O'Reilly Media. Kindle Edition.  "
   ]
  },
  {
   "cell_type": "code",
   "execution_count": null,
   "metadata": {},
   "outputs": [],
   "source": []
  }
 ],
 "metadata": {
  "kernelspec": {
   "display_name": "Python 3",
   "language": "python",
   "name": "python3"
  },
  "language_info": {
   "codemirror_mode": {
    "name": "ipython",
    "version": 3
   },
   "file_extension": ".py",
   "mimetype": "text/x-python",
   "name": "python",
   "nbconvert_exporter": "python",
   "pygments_lexer": "ipython3",
   "version": "3.7.3"
  }
 },
 "nbformat": 4,
 "nbformat_minor": 4
}
