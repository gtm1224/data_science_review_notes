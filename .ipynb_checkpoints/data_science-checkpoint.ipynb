{
 "cells": [
  {
   "cell_type": "markdown",
   "metadata": {},
   "source": [
    "# Review of vectors, matrices, and arithmetic"
   ]
  },
  {
   "cell_type": "code",
   "execution_count": 6,
   "metadata": {},
   "outputs": [],
   "source": [
    "import numpy as np"
   ]
  },
  {
   "cell_type": "code",
   "execution_count": 7,
   "metadata": {},
   "outputs": [
    {
     "name": "stdout",
     "output_type": "stream",
     "text": [
      "1 3\n",
      "2 4\n",
      "3 5\n"
     ]
    }
   ],
   "source": [
    "a=[1,2,3]\n",
    "b=[3,4,5]\n",
    "zip(a,b)\n",
    "for i,j in zip(a,b):\n",
    "    print(i,j)"
   ]
  },
  {
   "cell_type": "code",
   "execution_count": 8,
   "metadata": {},
   "outputs": [
    {
     "name": "stdout",
     "output_type": "stream",
     "text": [
      "[1 2 3]+[4 5 6]=[5 7 9]\n",
      "[1 2 3]x[4 5 6]=[ 4 10 18]\n"
     ]
    }
   ],
   "source": [
    "a=np.array([1,2,3])\n",
    "b=np.array([4,5,6])\n",
    "print(\"{0}+{1}={2}\".format(a,b,a+b))\n",
    "print(\"{0}x{1}={2}\".format(a,b,a*b))"
   ]
  },
  {
   "cell_type": "code",
   "execution_count": 9,
   "metadata": {},
   "outputs": [
    {
     "data": {
      "text/plain": [
       "(3,)"
      ]
     },
     "execution_count": 9,
     "metadata": {},
     "output_type": "execute_result"
    }
   ],
   "source": [
    "b.shape"
   ]
  },
  {
   "cell_type": "code",
   "execution_count": 10,
   "metadata": {},
   "outputs": [
    {
     "data": {
      "text/plain": [
       "1"
      ]
     },
     "execution_count": 10,
     "metadata": {},
     "output_type": "execute_result"
    }
   ],
   "source": [
    "b.ndim"
   ]
  },
  {
   "cell_type": "code",
   "execution_count": 11,
   "metadata": {},
   "outputs": [
    {
     "data": {
      "text/plain": [
       "array([[1., 1., 1.],\n",
       "       [1., 1., 1.],\n",
       "       [1., 1., 1.]])"
      ]
     },
     "execution_count": 11,
     "metadata": {},
     "output_type": "execute_result"
    }
   ],
   "source": [
    "np.ones((3,3))"
   ]
  },
  {
   "cell_type": "code",
   "execution_count": 12,
   "metadata": {},
   "outputs": [
    {
     "data": {
      "text/plain": [
       "array([[0., 0., 0., 0.],\n",
       "       [0., 0., 0., 0.],\n",
       "       [0., 0., 0., 0.]])"
      ]
     },
     "execution_count": 12,
     "metadata": {},
     "output_type": "execute_result"
    }
   ],
   "source": [
    "np.zeros((3,4))"
   ]
  },
  {
   "cell_type": "code",
   "execution_count": 13,
   "metadata": {},
   "outputs": [
    {
     "data": {
      "text/plain": [
       "array([[100, 100, 100, 100, 100],\n",
       "       [100, 100, 100, 100, 100],\n",
       "       [100, 100, 100, 100, 100],\n",
       "       [100, 100, 100, 100, 100]])"
      ]
     },
     "execution_count": 13,
     "metadata": {},
     "output_type": "execute_result"
    }
   ],
   "source": [
    "np.full((4,5),100)"
   ]
  },
  {
   "cell_type": "code",
   "execution_count": 14,
   "metadata": {},
   "outputs": [
    {
     "data": {
      "text/plain": [
       "array([[0.528861  , 0.34251333],\n",
       "       [0.18986113, 0.30894503],\n",
       "       [0.6789152 , 0.86634094],\n",
       "       [0.5096502 , 0.28667882]])"
      ]
     },
     "execution_count": 14,
     "metadata": {},
     "output_type": "execute_result"
    }
   ],
   "source": [
    "np.random.rand(4,2)"
   ]
  },
  {
   "cell_type": "code",
   "execution_count": 15,
   "metadata": {},
   "outputs": [
    {
     "data": {
      "text/plain": [
       "array([[5, 1, 9, 6],\n",
       "       [7, 1, 2, 2],\n",
       "       [5, 9, 9, 2],\n",
       "       [8, 7, 7, 5],\n",
       "       [4, 9, 1, 5]])"
      ]
     },
     "execution_count": 15,
     "metadata": {},
     "output_type": "execute_result"
    }
   ],
   "source": [
    "np.random.randint(10,size=(5,4))"
   ]
  },
  {
   "cell_type": "code",
   "execution_count": 16,
   "metadata": {},
   "outputs": [
    {
     "data": {
      "text/plain": [
       "array([[1., 0., 0., 0.],\n",
       "       [0., 1., 0., 0.],\n",
       "       [0., 0., 1., 0.],\n",
       "       [0., 0., 0., 1.]])"
      ]
     },
     "execution_count": 16,
     "metadata": {},
     "output_type": "execute_result"
    }
   ],
   "source": [
    "np.identity(4)"
   ]
  },
  {
   "cell_type": "code",
   "execution_count": 17,
   "metadata": {},
   "outputs": [
    {
     "name": "stdout",
     "output_type": "stream",
     "text": [
      "[[1 2 3]\n",
      " [4 5 6]\n",
      " [7 8 9]]\n"
     ]
    }
   ],
   "source": [
    "a=np.array([[1,2,3],[4,5,6],[7,8,9]])\n",
    "print(a)"
   ]
  },
  {
   "cell_type": "code",
   "execution_count": 18,
   "metadata": {},
   "outputs": [],
   "source": [
    "b=np.array([[2,3],[4,5],[6,7]])"
   ]
  },
  {
   "cell_type": "code",
   "execution_count": 19,
   "metadata": {},
   "outputs": [
    {
     "name": "stdout",
     "output_type": "stream",
     "text": [
      "[[ 28  34]\n",
      " [ 64  79]\n",
      " [100 124]]\n"
     ]
    }
   ],
   "source": [
    "c=np.matmul(a,b)\n",
    "print(c)"
   ]
  },
  {
   "cell_type": "code",
   "execution_count": 20,
   "metadata": {},
   "outputs": [
    {
     "name": "stdout",
     "output_type": "stream",
     "text": [
      "-9.51619735392994e-16\n"
     ]
    }
   ],
   "source": [
    "print(np.linalg.det(a))"
   ]
  },
  {
   "cell_type": "markdown",
   "metadata": {},
   "source": [
    "# Statistics Review"
   ]
  },
  {
   "cell_type": "markdown",
   "metadata": {},
   "source": [
    "Chapter 5 from the book Data Science from Scratch"
   ]
  },
  {
   "cell_type": "code",
   "execution_count": 21,
   "metadata": {},
   "outputs": [],
   "source": [
    "num_friends = list(np.random.randint(low =0,high=100,size=204))"
   ]
  },
  {
   "cell_type": "code",
   "execution_count": 22,
   "metadata": {},
   "outputs": [],
   "source": [
    "from collections import Counter\n",
    "import matplotlib.pyplot as plt"
   ]
  },
  {
   "cell_type": "code",
   "execution_count": 23,
   "metadata": {},
   "outputs": [
    {
     "name": "stdout",
     "output_type": "stream",
     "text": [
      "Counter({28: 5, 9: 5, 88: 4, 27: 4, 15: 4, 69: 4, 53: 4, 7: 4, 4: 4, 26: 4, 32: 4, 39: 4, 12: 4, 36: 4, 76: 4, 74: 3, 51: 3, 6: 3, 80: 3, 55: 3, 23: 3, 49: 3, 84: 3, 37: 3, 73: 3, 43: 3, 34: 3, 82: 3, 91: 3, 24: 3, 64: 3, 16: 3, 89: 3, 83: 3, 61: 3, 20: 3, 40: 3, 10: 2, 45: 2, 1: 2, 5: 2, 99: 2, 46: 2, 97: 2, 52: 2, 25: 2, 66: 2, 72: 2, 85: 2, 18: 2, 90: 2, 68: 2, 67: 2, 93: 2, 19: 2, 59: 2, 50: 2, 48: 2, 2: 2, 77: 2, 35: 2, 98: 2, 65: 1, 79: 1, 33: 1, 63: 1, 31: 1, 58: 1, 8: 1, 95: 1, 29: 1, 56: 1, 38: 1, 14: 1, 21: 1, 62: 1, 44: 1, 13: 1, 94: 1, 71: 1, 86: 1, 0: 1, 22: 1, 17: 1, 57: 1, 81: 1, 60: 1, 70: 1})\n"
     ]
    }
   ],
   "source": [
    "friend_counts=Counter(num_friends)\n",
    "print(friend_counts)"
   ]
  },
  {
   "cell_type": "code",
   "execution_count": 24,
   "metadata": {},
   "outputs": [
    {
     "name": "stdout",
     "output_type": "stream",
     "text": [
      "[1, 2, 2, 0, 4, 2, 3, 4, 1, 5, 2, 0, 4, 1, 1, 4, 3, 1, 2, 2, 3, 1, 1, 3, 3, 2, 4, 4, 5, 1, 0, 1, 4, 1, 3, 2, 4, 3, 1, 4, 3, 0, 0, 3, 1, 2, 2, 0, 2, 3, 2, 3, 2, 4, 0, 3, 1, 1, 1, 2, 1, 3, 1, 1, 3, 1, 2, 2, 2, 4, 1, 1, 2, 3, 3, 0, 4, 2, 0, 1, 3, 1, 3, 3, 3, 2, 1, 0, 4, 3, 2, 3, 0, 2, 1, 1, 0, 2, 2, 2, 0]\n"
     ]
    }
   ],
   "source": [
    "xs=range(101)\n",
    "ys=[friend_counts[x] for x in xs]\n",
    "print(ys)"
   ]
  },
  {
   "cell_type": "code",
   "execution_count": 25,
   "metadata": {},
   "outputs": [
    {
     "data": {
      "image/png": "[encoded data removed]",
      "text/plain": [
       "<Figure size 432x288 with 1 Axes>"
      ]
     },
     "metadata": {
      "needs_background": "light"
     },
     "output_type": "display_data"
    }
   ],
   "source": [
    "plt.bar(xs,ys)\n",
    "plt.axis([0,101,0,25])\n",
    "plt.title(\"Histogram of Friend Counts\")\n",
    "plt.xlabel(\"# of friends\")\n",
    "plt.ylabel(\"# of people\")\n",
    "plt.show()"
   ]
  },
  {
   "cell_type": "code",
   "execution_count": 26,
   "metadata": {},
   "outputs": [
    {
     "name": "stdout",
     "output_type": "stream",
     "text": [
      "204\n"
     ]
    }
   ],
   "source": [
    "num_points = len(num_friends)\n",
    "print(num_points)"
   ]
  },
  {
   "cell_type": "code",
   "execution_count": 27,
   "metadata": {},
   "outputs": [
    {
     "name": "stdout",
     "output_type": "stream",
     "text": [
      "99\n"
     ]
    }
   ],
   "source": [
    "larget_value = max(num_friends)\n",
    "print(larget_value)"
   ]
  },
  {
   "cell_type": "code",
   "execution_count": 28,
   "metadata": {},
   "outputs": [
    {
     "name": "stdout",
     "output_type": "stream",
     "text": [
      "0\n"
     ]
    }
   ],
   "source": [
    "smallest_value=min(num_friends)\n",
    "print(smallest_value)"
   ]
  },
  {
   "cell_type": "code",
   "execution_count": 29,
   "metadata": {},
   "outputs": [
    {
     "name": "stdout",
     "output_type": "stream",
     "text": [
      "[0, 1, 1, 2, 2, 4, 4, 4, 4, 5, 5, 6, 6, 6, 7, 7, 7, 7, 8, 9, 9, 9, 9, 9, 10, 10, 12, 12, 12, 12, 13, 14, 15, 15, 15, 15, 16, 16, 16, 17, 18, 18, 19, 19, 20, 20, 20, 21, 22, 23, 23, 23, 24, 24, 24, 25, 25, 26, 26, 26, 26, 27, 27, 27, 27, 28, 28, 28, 28, 28, 29, 31, 32, 32, 32, 32, 33, 34, 34, 34, 35, 35, 36, 36, 36, 36, 37, 37, 37, 38, 39, 39, 39, 39, 40, 40, 40, 43, 43, 43, 44, 45, 45, 46, 46, 48, 48, 49, 49, 49, 50, 50, 51, 51, 51, 52, 52, 53, 53, 53, 53, 55, 55, 55, 56, 57, 58, 59, 59, 60, 61, 61, 61, 62, 63, 64, 64, 64, 65, 66, 66, 67, 67, 68, 68, 69, 69, 69, 69, 70, 71, 72, 72, 73, 73, 73, 74, 74, 74, 76, 76, 76, 76, 77, 77, 79, 80, 80, 80, 81, 82, 82, 82, 83, 83, 83, 84, 84, 84, 85, 85, 86, 88, 88, 88, 88, 89, 89, 89, 90, 90, 91, 91, 91, 93, 93, 94, 95, 97, 97, 98, 98, 99, 99]\n"
     ]
    }
   ],
   "source": [
    "sorted_values=sorted(num_friends)\n",
    "print(sorted_values)"
   ]
  },
  {
   "cell_type": "code",
   "execution_count": 30,
   "metadata": {},
   "outputs": [],
   "source": [
    "def mean(xs):\n",
    "    return sum(xs)/len(xs)"
   ]
  },
  {
   "cell_type": "code",
   "execution_count": 31,
   "metadata": {},
   "outputs": [
    {
     "data": {
      "text/plain": [
       "46.955882352941174"
      ]
     },
     "execution_count": 31,
     "metadata": {},
     "output_type": "execute_result"
    }
   ],
   "source": [
    "mean(num_friends)"
   ]
  },
  {
   "cell_type": "code",
   "execution_count": 32,
   "metadata": {},
   "outputs": [],
   "source": [
    "def quantile(xs,p):\n",
    "    p_index=int(p*len(xs))\n",
    "    return sorted(xs)[p_index]"
   ]
  },
  {
   "cell_type": "code",
   "execution_count": 33,
   "metadata": {},
   "outputs": [],
   "source": [
    "assert quantile(num_friends,0.10)"
   ]
  },
  {
   "cell_type": "code",
   "execution_count": 34,
   "metadata": {},
   "outputs": [],
   "source": [
    "def mode(x):\n",
    "    counts=Counter(x)\n",
    "    print(counts)\n",
    "    max_count=max(counts.values())\n",
    "    return [x_i for x_i,count in counts.items() if count==max_count]"
   ]
  },
  {
   "cell_type": "code",
   "execution_count": 35,
   "metadata": {},
   "outputs": [
    {
     "name": "stdout",
     "output_type": "stream",
     "text": [
      "Counter({28: 5, 9: 5, 88: 4, 27: 4, 15: 4, 69: 4, 53: 4, 7: 4, 4: 4, 26: 4, 32: 4, 39: 4, 12: 4, 36: 4, 76: 4, 74: 3, 51: 3, 6: 3, 80: 3, 55: 3, 23: 3, 49: 3, 84: 3, 37: 3, 73: 3, 43: 3, 34: 3, 82: 3, 91: 3, 24: 3, 64: 3, 16: 3, 89: 3, 83: 3, 61: 3, 20: 3, 40: 3, 10: 2, 45: 2, 1: 2, 5: 2, 99: 2, 46: 2, 97: 2, 52: 2, 25: 2, 66: 2, 72: 2, 85: 2, 18: 2, 90: 2, 68: 2, 67: 2, 93: 2, 19: 2, 59: 2, 50: 2, 48: 2, 2: 2, 77: 2, 35: 2, 98: 2, 65: 1, 79: 1, 33: 1, 63: 1, 31: 1, 58: 1, 8: 1, 95: 1, 29: 1, 56: 1, 38: 1, 14: 1, 21: 1, 62: 1, 44: 1, 13: 1, 94: 1, 71: 1, 86: 1, 0: 1, 22: 1, 17: 1, 57: 1, 81: 1, 60: 1, 70: 1})\n"
     ]
    },
    {
     "data": {
      "text/plain": [
       "[28, 9]"
      ]
     },
     "execution_count": 35,
     "metadata": {},
     "output_type": "execute_result"
    }
   ],
   "source": [
    "mode(num_friends)"
   ]
  },
  {
   "cell_type": "code",
   "execution_count": null,
   "metadata": {},
   "outputs": [],
   "source": []
  }
 ],
 "metadata": {
  "kernelspec": {
   "display_name": "Python 3",
   "language": "python",
   "name": "python3"
  },
  "language_info": {
   "codemirror_mode": {
    "name": "ipython",
    "version": 3
   },
   "file_extension": ".py",
   "mimetype": "text/x-python",
   "name": "python",
   "nbconvert_exporter": "python",
   "pygments_lexer": "ipython3",
   "version": "3.7.3"
  }
 },
 "nbformat": 4,
 "nbformat_minor": 4
}
